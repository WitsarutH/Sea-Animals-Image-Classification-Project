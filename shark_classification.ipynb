{
 "cells": [
  {
   "cell_type": "markdown",
   "id": "2234709c",
   "metadata": {},
   "source": [
    "# Shark Image Classification"
   ]
  },
  {
   "cell_type": "markdown",
   "id": "02f68453",
   "metadata": {},
   "source": [
    "Hello, everyone. Today we will show a shark classification prediction program. Let's predict your liked shark."
   ]
  },
  {
   "cell_type": "markdown",
   "id": "de47d6b9",
   "metadata": {},
   "source": [
    "<img src=\"image/cover.jpg\">"
   ]
  },
  {
   "cell_type": "markdown",
   "id": "5669db4f",
   "metadata": {},
   "source": [
    "## Import library"
   ]
  },
  {
   "cell_type": "code",
   "execution_count": null,
   "id": "9c96592c",
   "metadata": {},
   "outputs": [],
   "source": [
    "#Basic library\n",
    "import os \n",
    "import numpy as np\n",
    "import tensorflow as tf\n",
    "from tensorflow import keras\n",
    "import pickle\n",
    "from tensorflow.keras.preprocessing import image\n",
    "from tensorflow.keras.applications.vgg16 import preprocess_input, decode_predictions\n",
    "\n",
    "#Upload image\n",
    "import tkinter as tk\n",
    "from tkinter.filedialog import askopenfilename\n",
    "from IPython.display import display, HTML, Image"
   ]
  },
  {
   "cell_type": "markdown",
   "id": "86546322",
   "metadata": {},
   "source": [
    "## Choose your shark picture"
   ]
  },
  {
   "cell_type": "code",
   "execution_count": null,
   "id": "8210baf3",
   "metadata": {},
   "outputs": [],
   "source": [
    "filetypes = (\n",
    "        ('Image files', '*.jpg'),\n",
    "        ('Image files', '*.jpeg'),\n",
    "        ('Image files', '*.png'),\n",
    ")\n",
    "\n",
    "root = tk.Tk()\n",
    "root.attributes('-topmost',True)\n",
    "root.iconify()\n",
    "    \n",
    "img_path = askopenfilename(title='Choose your shark picture',\n",
    "                            filetypes=filetypes,\n",
    "                            parent=root)\n",
    "\n",
    "root.destroy()"
   ]
  },
  {
   "cell_type": "code",
   "execution_count": null,
   "id": "7a496dde",
   "metadata": {},
   "outputs": [],
   "source": [
    "display(Image(img_path))"
   ]
  },
  {
   "cell_type": "markdown",
   "id": "02e575b5",
   "metadata": {},
   "source": [
    "## Setting your shark image to prepare to predict"
   ]
  },
  {
   "cell_type": "code",
   "execution_count": null,
   "id": "1222c18b",
   "metadata": {},
   "outputs": [],
   "source": [
    "shark_img = image.load_img(img_path, target_size=(200, 200))"
   ]
  },
  {
   "cell_type": "code",
   "execution_count": null,
   "id": "4060c81f",
   "metadata": {},
   "outputs": [],
   "source": [
    "img_array = image.img_to_array(shark_img)\n",
    "img_batch = np.expand_dims(img_array, axis=0)"
   ]
  },
  {
   "cell_type": "code",
   "execution_count": null,
   "id": "71fbd48f",
   "metadata": {},
   "outputs": [],
   "source": [
    "img_preprocessed = preprocess_input(img_batch)"
   ]
  },
  {
   "cell_type": "markdown",
   "id": "d16815d0",
   "metadata": {},
   "source": [
    "## Predict your shark"
   ]
  },
  {
   "cell_type": "code",
   "execution_count": null,
   "id": "4ad7cee6",
   "metadata": {},
   "outputs": [],
   "source": [
    "shark_classes = ['basking',\n",
    " 'blacktip',\n",
    " 'blue',\n",
    " 'bull',\n",
    " 'hammerhead',\n",
    " 'lemon',\n",
    " 'mako',\n",
    " 'nurse',\n",
    " 'sand tiger',\n",
    " 'thresher',\n",
    " 'tiger',\n",
    " 'whale',\n",
    " 'white',\n",
    " 'whitetip']"
   ]
  },
  {
   "cell_type": "code",
   "execution_count": null,
   "id": "b2943430",
   "metadata": {},
   "outputs": [],
   "source": [
    "filename = 'vgg16_model.sav'\n",
    "loaded_model = pickle.load(open('prototype_model/{}'.format(filename), 'rb'))"
   ]
  },
  {
   "cell_type": "code",
   "execution_count": null,
   "id": "aaa909f6",
   "metadata": {},
   "outputs": [],
   "source": [
    "classes_predict = np.argmax(loaded_model.predict(img_preprocessed))"
   ]
  },
  {
   "cell_type": "code",
   "execution_count": null,
   "id": "4416c2a8",
   "metadata": {},
   "outputs": [],
   "source": [
    "print('This is {} shark.'.format(shark_classes[classes_predict]))"
   ]
  }
 ],
 "metadata": {
  "kernelspec": {
   "display_name": "Python 3 (ipykernel)",
   "language": "python",
   "name": "python3"
  },
  "language_info": {
   "codemirror_mode": {
    "name": "ipython",
    "version": 3
   },
   "file_extension": ".py",
   "mimetype": "text/x-python",
   "name": "python",
   "nbconvert_exporter": "python",
   "pygments_lexer": "ipython3",
   "version": "3.9.7"
  }
 },
 "nbformat": 4,
 "nbformat_minor": 5
}
